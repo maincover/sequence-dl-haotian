{
 "cells": [
  {
   "cell_type": "code",
   "execution_count": 1,
   "metadata": {},
   "outputs": [
    {
     "name": "stderr",
     "output_type": "stream",
     "text": [
      "/home/xsong/miniconda2/lib/python2.7/site-packages/h5py/__init__.py:34: FutureWarning: Conversion of the second argument of issubdtype from `float` to `np.floating` is deprecated. In future, it will be treated as `np.float64 == np.dtype(float).type`.\n",
      "  from ._conv import register_converters as _register_converters\n",
      "Using TensorFlow backend.\n"
     ]
    },
    {
     "name": "stdout",
     "output_type": "stream",
     "text": [
      "(171427,) (171427, 31)\n"
     ]
    }
   ],
   "source": [
    "import numpy as np\n",
    "from keras.preprocessing.text import one_hot\n",
    "def seqTrans(argument):\n",
    "    switcher = {\n",
    "        'A': 1,\n",
    "        'T': 2,\n",
    "        'G': 3,\n",
    "        'C': 4,\n",
    "        'N': np.random.randint(1,4)\n",
    "    }\n",
    "    return switcher.get(argument, \"Invalid month\")\n",
    "\n",
    "def lineToArr(line):\n",
    "    arr = np.array([])\n",
    "    for a in line:\n",
    "        v = seqTrans(a)    \n",
    "        arr = np.append(arr,v)    \n",
    "    return arr\n",
    "\n",
    "\n",
    "import csv\n",
    "\n",
    "l_arr = []\n",
    "y =np.array([])\n",
    "\n",
    "vocab_size = 64\n",
    "\n",
    "\n",
    "with open('NGS201811_Censored(updated).csv') as csv_file:\n",
    "    csv_reader = csv.reader(csv_file, delimiter=',')\n",
    "    line_count = 0\n",
    "    for row in csv_reader:\n",
    "        if line_count == 0:\n",
    "            #print row\n",
    "            line_count += 1\n",
    "        else:            \n",
    "            line_count += 1\n",
    "            s = row[0]\n",
    "            lw = [s[i:i+3] for i in range(0, len(s)-2, 1)]  #lw = [s[i:i+3] for i in range(0, len(s), 3)]            \n",
    "            encoded_docs = [one_hot(d, vocab_size) for d in lw]\n",
    "            arr_id = np.asarray(encoded_docs)            \n",
    "            l_arr.append(arr_id.ravel())\n",
    "            y = np.append(y,row[2])            \n",
    "            \n",
    "m_data = np.asmatrix(l_arr)\n",
    "y = y.astype('float32')\n",
    "#m_data = m_data.astype('float32')\n",
    "#m_data = np.expand_dims(m_data, axis=2)\n",
    "#m_data=m_data.transpose()\n",
    "#y = y.reshape(1,len(y))\n",
    "print y.shape, m_data.shape"
   ]
  },
  {
   "cell_type": "code",
   "execution_count": 2,
   "metadata": {},
   "outputs": [
    {
     "name": "stdout",
     "output_type": "stream",
     "text": [
      "(137141, 31) (137141,)\n",
      "(137141, 2)\n"
     ]
    }
   ],
   "source": [
    "#  Equanlization of training dataset,get 70% of dataset as trainning dataset\n",
    "Equalization = False\n",
    "train_ratio = 0.8\n",
    "if Equalization:\n",
    "    id_1 =  np.where(y==1)\n",
    "    id_1 = id_1[0] \n",
    "    k = id_1.tolist()\n",
    "    idx = np.random.randint(len(k),size=int(len(k)*train_ratio))\n",
    "    x_train = m_data[idx,]\n",
    "    y_train = y[idx,]\n",
    "    print x_train.shape,y_train.shape\n",
    "else:\n",
    "    # No equalization of training dataset    \n",
    "    idx = np.random.randint(len(y), size=int(len(y)*train_ratio))\n",
    "    x_train = m_data[idx,]\n",
    "    y_train = y[idx,]\n",
    "    print x_train.shape,y_train.shape\n",
    "    \n",
    "    \n",
    "from keras.utils import to_categorical\n",
    "\n",
    "num_classes = 2\n",
    "\n",
    "x_train = x_train.astype(int)\n",
    "y_train = to_categorical(y_train,num_classes)\n",
    "print y_train.shape"
   ]
  },
  {
   "cell_type": "code",
   "execution_count": 3,
   "metadata": {},
   "outputs": [
    {
     "data": {
      "text/plain": [
       "(137141, 2)"
      ]
     },
     "execution_count": 3,
     "metadata": {},
     "output_type": "execute_result"
    }
   ],
   "source": [
    "y_train.shape"
   ]
  },
  {
   "cell_type": "code",
   "execution_count": 4,
   "metadata": {},
   "outputs": [],
   "source": [
    "from keras import backend as K\n",
    "import tensorflow as tf\n",
    "'''\n",
    "Compatible with tensorflow backend\n",
    "'''\n",
    "def focal_loss(gamma=2., alpha=.25):\n",
    "\tdef focal_loss_fixed(y_true, y_pred):\n",
    "\t\tpt_1 = tf.where(tf.equal(y_true, 1), y_pred, tf.ones_like(y_pred))\n",
    "        \tpt_0 = tf.where(tf.equal(y_true, 0), y_pred, tf.zeros_like(y_pred))\n",
    "        \treturn -K.sum(alpha * K.pow(1. - pt_1, gamma) * K.log(pt_1))-K.sum((1-alpha) * K.pow( pt_0, gamma) * K.log(1. - pt_0))\n",
    "\treturn focal_loss_fixed"
   ]
  },
  {
   "cell_type": "code",
   "execution_count": 5,
   "metadata": {},
   "outputs": [
    {
     "name": "stdout",
     "output_type": "stream",
     "text": [
      "_________________________________________________________________\n",
      "Layer (type)                 Output Shape              Param #   \n",
      "=================================================================\n",
      "embedding_1 (Embedding)      (None, 31, 8)             512       \n",
      "_________________________________________________________________\n",
      "conv1d_1 (Conv1D)            (None, 29, 128)           3200      \n",
      "_________________________________________________________________\n",
      "conv1d_2 (Conv1D)            (None, 27, 128)           49280     \n",
      "_________________________________________________________________\n",
      "max_pooling1d_1 (MaxPooling1 (None, 13, 128)           0         \n",
      "_________________________________________________________________\n",
      "conv1d_3 (Conv1D)            (None, 11, 256)           98560     \n",
      "_________________________________________________________________\n",
      "conv1d_4 (Conv1D)            (None, 9, 256)            196864    \n",
      "_________________________________________________________________\n",
      "max_pooling1d_2 (MaxPooling1 (None, 4, 256)            0         \n",
      "_________________________________________________________________\n",
      "conv1d_5 (Conv1D)            (None, 2, 512)            393728    \n",
      "_________________________________________________________________\n",
      "global_average_pooling1d_1 ( (None, 512)               0         \n",
      "_________________________________________________________________\n",
      "dropout_1 (Dropout)          (None, 512)               0         \n",
      "_________________________________________________________________\n",
      "dense_1 (Dense)              (None, 2)                 1026      \n",
      "=================================================================\n",
      "Total params: 743,170\n",
      "Trainable params: 743,170\n",
      "Non-trainable params: 0\n",
      "_________________________________________________________________\n",
      "None\n"
     ]
    }
   ],
   "source": [
    "from keras.models import Sequential\n",
    "from keras.layers import Dense, Flatten, Input\n",
    "from keras.layers.embeddings import Embedding\n",
    "from keras.models import Model\n",
    "from keras.preprocessing.sequence import pad_sequences\n",
    "from keras.preprocessing.text import one_hot\n",
    "from keras.layers import Dense, Dropout, Flatten, Reshape, GlobalAveragePooling1D\n",
    "from keras.layers import Conv2D, MaxPooling2D, Conv1D, MaxPooling1D\n",
    "from keras.utils import np_utils\n",
    "from keras.utils import plot_model\n",
    "#from focal_loss import focal_loss\n",
    "model = Sequential()\n",
    "\n",
    "vocab_size=64\n",
    "max_length = 31\n",
    "model.add(Embedding(vocab_size, 8 , input_length=max_length))\n",
    "#model.add(Flatten())\n",
    "model.add(Conv1D(128, 3, activation='relu'))\n",
    "model.add(Conv1D(128, 3, activation='relu'))\n",
    "model.add(MaxPooling1D(2))\n",
    "model.add(Conv1D(256, 3, activation='relu'))\n",
    "model.add(Conv1D(256, 3, activation='relu'))\n",
    "model.add(MaxPooling1D(2))\n",
    "model.add(Conv1D(512, 3, activation='relu'))\n",
    "model.add(GlobalAveragePooling1D())\n",
    "model.add(Dropout(0.5))\n",
    "model.add(Dense(2, activation='softmax'))\n",
    "\n",
    "#model.add(Dense(1, activation=\"linear\"))\n",
    "# compile the model 编译\n",
    "\n",
    "model.compile(optimizer='adam', loss=[focal_loss(alpha=.25, gamma=2)], metrics=['acc'])\n",
    "#model.compile(optimizer='adam', loss='binary_crossentropy', metrics=['acc'])\n",
    "# summarize the model 打印模型信息\n",
    "\n",
    "print(model.summary())\n",
    "plot_model(model,to_file='1dconv.png')"
   ]
  },
  {
   "cell_type": "code",
   "execution_count": 6,
   "metadata": {},
   "outputs": [
    {
     "name": "stdout",
     "output_type": "stream",
     "text": [
      "\n",
      "--- Fit the model ---\n",
      "\n",
      "Train on 123426 samples, validate on 13715 samples\n",
      "Epoch 1/50\n",
      "123426/123426 [==============================] - 12s 96us/step - loss: 20.6090 - acc: 0.8356 - val_loss: 16.3472 - val_acc: 0.8739\n",
      "Epoch 2/50\n",
      "123426/123426 [==============================] - 10s 77us/step - loss: 15.2589 - acc: 0.8841 - val_loss: 13.5376 - val_acc: 0.9006\n",
      "Epoch 3/50\n",
      "123426/123426 [==============================] - 10s 77us/step - loss: 13.2240 - acc: 0.9012 - val_loss: 12.3843 - val_acc: 0.9096\n",
      "Epoch 4/50\n",
      "123426/123426 [==============================] - 9s 77us/step - loss: 11.8960 - acc: 0.9117 - val_loss: 11.4164 - val_acc: 0.9172\n",
      "Epoch 5/50\n",
      "123426/123426 [==============================] - 11s 92us/step - loss: 10.7182 - acc: 0.9214 - val_loss: 11.0827 - val_acc: 0.9193\n",
      "Epoch 6/50\n",
      "123426/123426 [==============================] - 11s 90us/step - loss: 9.7969 - acc: 0.9289 - val_loss: 10.5605 - val_acc: 0.9223\n",
      "Epoch 7/50\n",
      "123426/123426 [==============================] - 10s 81us/step - loss: 9.0503 - acc: 0.9342 - val_loss: 9.8708 - val_acc: 0.9312\n",
      "Epoch 8/50\n",
      "123426/123426 [==============================] - 8s 68us/step - loss: 8.3195 - acc: 0.9397 - val_loss: 9.4342 - val_acc: 0.9336\n",
      "Epoch 9/50\n",
      "123426/123426 [==============================] - 12s 96us/step - loss: 7.7221 - acc: 0.9441 - val_loss: 9.2284 - val_acc: 0.9369\n",
      "Epoch 10/50\n",
      "123426/123426 [==============================] - 12s 93us/step - loss: 7.0595 - acc: 0.9491 - val_loss: 8.8286 - val_acc: 0.9396\n",
      "Epoch 11/50\n",
      "123426/123426 [==============================] - 12s 93us/step - loss: 6.6588 - acc: 0.9524 - val_loss: 8.9645 - val_acc: 0.9380\n",
      "Epoch 12/50\n",
      "123426/123426 [==============================] - 10s 79us/step - loss: 6.0990 - acc: 0.9565 - val_loss: 8.9537 - val_acc: 0.9398\n",
      "Epoch 13/50\n",
      "123426/123426 [==============================] - 8s 65us/step - loss: 5.7302 - acc: 0.9591 - val_loss: 9.1375 - val_acc: 0.9438\n",
      "Epoch 14/50\n",
      "123426/123426 [==============================] - 8s 62us/step - loss: 5.4128 - acc: 0.9620 - val_loss: 9.4697 - val_acc: 0.9340\n",
      "Epoch 15/50\n",
      "123426/123426 [==============================] - 8s 62us/step - loss: 5.1350 - acc: 0.9642 - val_loss: 8.7004 - val_acc: 0.9435\n",
      "Epoch 16/50\n",
      "123426/123426 [==============================] - 9s 72us/step - loss: 4.7685 - acc: 0.9665 - val_loss: 9.2138 - val_acc: 0.9438\n",
      "Epoch 17/50\n",
      "123426/123426 [==============================] - 8s 67us/step - loss: 4.5690 - acc: 0.9680 - val_loss: 9.4922 - val_acc: 0.9450\n",
      "Epoch 18/50\n",
      "123426/123426 [==============================] - 7s 58us/step - loss: 4.2411 - acc: 0.9701 - val_loss: 9.6964 - val_acc: 0.9459\n",
      "Epoch 19/50\n",
      "123426/123426 [==============================] - 7s 59us/step - loss: 4.0434 - acc: 0.9714 - val_loss: 9.8721 - val_acc: 0.9485\n",
      "Epoch 20/50\n",
      "123426/123426 [==============================] - 7s 58us/step - loss: 3.8707 - acc: 0.9731 - val_loss: 9.3825 - val_acc: 0.9487\n",
      "Epoch 21/50\n",
      "123426/123426 [==============================] - 7s 58us/step - loss: 3.6862 - acc: 0.9745 - val_loss: 9.2597 - val_acc: 0.9501\n",
      "Epoch 22/50\n",
      "123426/123426 [==============================] - 7s 58us/step - loss: 3.5982 - acc: 0.9748 - val_loss: 10.7917 - val_acc: 0.9495\n",
      "Epoch 23/50\n",
      "123426/123426 [==============================] - 7s 59us/step - loss: 3.4234 - acc: 0.9762 - val_loss: 10.3381 - val_acc: 0.9509\n",
      "Epoch 24/50\n",
      "123426/123426 [==============================] - 10s 80us/step - loss: 3.2668 - acc: 0.9769 - val_loss: 10.4363 - val_acc: 0.9495\n",
      "Epoch 25/50\n",
      "123426/123426 [==============================] - 8s 65us/step - loss: 3.2287 - acc: 0.9777 - val_loss: 12.2533 - val_acc: 0.9502\n",
      "Epoch 26/50\n",
      "123426/123426 [==============================] - 8s 68us/step - loss: 2.9808 - acc: 0.9794 - val_loss: 11.0686 - val_acc: 0.9546\n",
      "Epoch 27/50\n",
      "123426/123426 [==============================] - 11s 93us/step - loss: 2.9235 - acc: 0.9798 - val_loss: 11.0300 - val_acc: 0.9513\n",
      "Epoch 28/50\n",
      "123426/123426 [==============================] - 9s 75us/step - loss: 2.8824 - acc: 0.9801 - val_loss: 11.7353 - val_acc: 0.9510\n",
      "Epoch 29/50\n",
      "123426/123426 [==============================] - 9s 75us/step - loss: 2.8788 - acc: 0.9803 - val_loss: 10.3306 - val_acc: 0.9529\n",
      "Epoch 30/50\n",
      "123426/123426 [==============================] - 10s 79us/step - loss: 2.5819 - acc: 0.9824 - val_loss: 12.6455 - val_acc: 0.9524\n",
      "Epoch 31/50\n",
      "123426/123426 [==============================] - 10s 80us/step - loss: 2.6850 - acc: 0.9817 - val_loss: 11.4374 - val_acc: 0.9536\n"
     ]
    }
   ],
   "source": [
    "# fit the model 拟合\n",
    "import keras\n",
    "\n",
    "BATCH_SIZE=200\n",
    "EPOCHS = 50\n",
    "print(\"\\n--- Fit the model ---\\n\")\n",
    "\n",
    "# The EarlyStopping callback monitors training accuracy:\n",
    "# if it fails to improve for two consecutive epochs,\n",
    "# training stops early\n",
    "callbacks_list = [\n",
    "    keras.callbacks.ModelCheckpoint(\n",
    "        filepath='best_model.{epoch:02d}-{val_loss:.2f}.h5',\n",
    "        monitor='val_loss', save_best_only=True),\n",
    "    keras.callbacks.EarlyStopping(monitor='acc', patience=1)\n",
    "]\n",
    "\n",
    "history = model.fit(x_train,\n",
    "                      y_train,\n",
    "                      batch_size=BATCH_SIZE,\n",
    "                      epochs=EPOCHS,\n",
    "                      callbacks=callbacks_list,\n",
    "                      validation_split=0.1,\n",
    "                      verbose=1)\n",
    "#history = model.fit(x_train, y_train, epochs=50,verbose=1)\n",
    "# evaluate the model 评估\n",
    "#loss, accuracy = model.evaluate(x_train, labels, verbose=0)\n",
    "#print('Accuracy: %f' % (accuracy*100))"
   ]
  },
  {
   "cell_type": "code",
   "execution_count": 7,
   "metadata": {},
   "outputs": [
    {
     "data": {
      "text/plain": [
       "<Figure size 600x400 with 1 Axes>"
      ]
     },
     "metadata": {},
     "output_type": "display_data"
    }
   ],
   "source": [
    "# summarize history for accuracy and loss\n",
    "import matplotlib.pyplot as plt\n",
    "plt.figure(figsize=(6, 4))\n",
    "plt.plot(history.history['acc'], \"g--\", label=\"Accuracy of training data\")\n",
    "plt.plot(history.history['val_acc'], \"g\", label=\"Accuracy of validation data\")\n",
    "plt.plot(history.history['loss'], \"r--\", label=\"Loss of training data\")\n",
    "plt.plot(history.history['val_loss'], \"r\", label=\"Loss of validation data\")\n",
    "plt.title('Model Accuracy and Loss')\n",
    "plt.ylabel('Accuracy and Loss')\n",
    "plt.xlabel('Training Epoch')\n",
    "plt.ylim(0)\n",
    "plt.legend()\n",
    "plt.show()"
   ]
  },
  {
   "cell_type": "code",
   "execution_count": 8,
   "metadata": {},
   "outputs": [],
   "source": [
    "def show_confusion_matrix(validations, predictions):\n",
    "\n",
    "    matrix = metrics.confusion_matrix(validations, predictions)\n",
    "    plt.figure(figsize=(6, 4))\n",
    "    sns.heatmap(matrix,\n",
    "                cmap=\"coolwarm\",\n",
    "                linecolor='white',\n",
    "                linewidths=1,\n",
    "                xticklabels=LABELS,\n",
    "                yticklabels=LABELS,\n",
    "                annot=True,\n",
    "                fmt=\"d\")\n",
    "    plt.title(\"Confusion Matrix\")\n",
    "    plt.ylabel(\"True Label\")\n",
    "    plt.xlabel(\"Predicted Label\")\n",
    "    plt.show()"
   ]
  },
  {
   "cell_type": "code",
   "execution_count": 9,
   "metadata": {},
   "outputs": [
    {
     "name": "stdout",
     "output_type": "stream",
     "text": [
      "\n",
      "--- Check against test data ---\n",
      "\n",
      "(76929, 31) (76929,)\n",
      "76929/76929 [==============================] - 7s 88us/step\n",
      "\n",
      "Accuracy on test data: 0.92\n",
      "\n",
      "Loss on test data: inf\n",
      "\n",
      "--- Confusion matrix for test data ---\n",
      "\n"
     ]
    },
    {
     "data": {
      "image/png": "[encoded data removed]",
      "text/plain": [
       "<Figure size 432x288 with 2 Axes>"
      ]
     },
     "metadata": {},
     "output_type": "display_data"
    },
    {
     "name": "stdout",
     "output_type": "stream",
     "text": [
      "\n",
      "--- Classification report for test data ---\n",
      "\n",
      "             precision    recall  f1-score   support\n",
      "\n",
      "          0       0.95      0.95      0.95     57694\n",
      "          1       0.85      0.83      0.84     19235\n",
      "\n",
      "avg / total       0.92      0.92      0.92     76929\n",
      "\n"
     ]
    }
   ],
   "source": [
    "#%%\n",
    "from sklearn import metrics\n",
    "from sklearn.metrics import classification_report\n",
    "import seaborn as sns\n",
    "from scipy import stats\n",
    "LABELS = [\"Desactivated\",\n",
    "          \"Activated\"]\n",
    "\n",
    "print(\"\\n--- Check against test data ---\\n\")\n",
    "\n",
    "x_test=np.delete(m_data,idx,axis=0)\n",
    "y_test=np.delete(y,idx)\n",
    "print x_test.shape, y_test.shape\n",
    "\n",
    "x_test = x_test.astype(\"float32\")\n",
    "y_test = y_test.astype(\"float32\")\n",
    "\n",
    "y_test = np_utils.to_categorical(y_test, num_classes)\n",
    "\n",
    "score = model.evaluate(x_test, y_test, verbose=1)\n",
    "\n",
    "print(\"\\nAccuracy on test data: %0.2f\" % score[1])\n",
    "print(\"\\nLoss on test data: %0.2f\" % score[0])\n",
    "\n",
    "# %%\n",
    "\n",
    "print(\"\\n--- Confusion matrix for test data ---\\n\")\n",
    "\n",
    "y_pred_test = model.predict(x_test)\n",
    "# Take the class with the highest probability from the test predictions\n",
    "max_y_pred_test = np.argmax(y_pred_test, axis=1)\n",
    "max_y_test = np.argmax(y_test, axis=1)\n",
    "\n",
    "show_confusion_matrix(max_y_test, max_y_pred_test)\n",
    "\n",
    "# %%\n",
    "\n",
    "print(\"\\n--- Classification report for test data ---\\n\")\n",
    "\n",
    "print(classification_report(max_y_test, max_y_pred_test))"
   ]
  },
  {
   "cell_type": "code",
   "execution_count": null,
   "metadata": {},
   "outputs": [],
   "source": []
  }
 ],
 "metadata": {
  "kernelspec": {
   "display_name": "Python 2",
   "language": "python",
   "name": "python2"
  },
  "language_info": {
   "codemirror_mode": {
    "name": "ipython",
    "version": 2
   },
   "file_extension": ".py",
   "mimetype": "text/x-python",
   "name": "python",
   "nbconvert_exporter": "python",
   "pygments_lexer": "ipython2",
   "version": "2.7.15"
  }
 },
 "nbformat": 4,
 "nbformat_minor": 2
}
