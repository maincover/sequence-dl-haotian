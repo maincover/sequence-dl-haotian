{
 "cells": [
  {
   "cell_type": "code",
   "execution_count": 1,
   "metadata": {},
   "outputs": [
    {
     "name": "stdout",
     "output_type": "stream",
     "text": [
      "(171427,) (171427, 33)\n"
     ]
    }
   ],
   "source": [
    "import numpy as np\n",
    "def seqTrans(argument):\n",
    "    switcher = {\n",
    "        'A': 1,\n",
    "        'T': 2,\n",
    "        'G': 3,\n",
    "        'C': 4,\n",
    "        'N': np.random.randint(1,4)\n",
    "    }\n",
    "    return switcher.get(argument, \"Invalid month\")\n",
    "\n",
    "def lineToArr(line):\n",
    "    arr = np.array([])\n",
    "    for a in line:\n",
    "        v = seqTrans(a)    \n",
    "        arr = np.append(arr,v)    \n",
    "    return arr\n",
    "\n",
    "\n",
    "import csv\n",
    "\n",
    "l_arr = []\n",
    "y =np.array([])\n",
    "with open('NGS201811_Censored(updated).csv') as csv_file:\n",
    "    csv_reader = csv.reader(csv_file, delimiter=',')\n",
    "    line_count = 0\n",
    "    for row in csv_reader:\n",
    "        if line_count == 0:\n",
    "            #print row\n",
    "            line_count += 1\n",
    "        else:            \n",
    "            line_count += 1\n",
    "            l_arr.append(lineToArr(row[0]))\n",
    "            y = np.append(y,row[2])\n",
    "            \n",
    "m_data = np.asmatrix(l_arr)\n",
    "y = y.astype('float32')\n",
    "m_data = m_data.astype('float32')\n",
    "#m_data = np.expand_dims(m_data, axis=2)\n",
    "#m_data=m_data.transpose()\n",
    "#y = y.reshape(1,len(y))\n",
    "print y.shape, m_data.shape"
   ]
  },
  {
   "cell_type": "code",
   "execution_count": 2,
   "metadata": {},
   "outputs": [],
   "source": [
    "def rToM(r):\n",
    "    m_new = np.zeros((r.size,r.size))\n",
    "    for k in range(0,r.size):\n",
    "        for j in range(k+1,r.size):\n",
    "            if k == j:\n",
    "                m_new[k,j] = r[k]            \n",
    "            elif r[k] ==1 and r[j] == 2 or (r[k] == 2 and r[j] == 1):\n",
    "                m_new[k,j] = 5\n",
    "            elif r[k] ==3 and r[j] == 2 or (r[k] == 2 and r[j] == 3):\n",
    "                m_new[k,j] = 6\n",
    "            elif r[k] ==3 and r[j] == 4 or (r[k] == 4 and r[j] == 3):\n",
    "                m_new[k,j] = 7\n",
    "    m = m_new.transpose()\n",
    "    m = m + m_new\n",
    "    m[np.diag_indices_from(m)] = r\n",
    "    return m\n",
    "\n",
    "\n",
    "nr,nc = m_data.shape\n",
    "m_data_image = np.empty([nr,nc,nc], dtype = int) \n",
    "for i in range(nr):\n",
    "    r = m_data[i,:]\n",
    "    r = np.asarray(r)\n",
    "    r = r.ravel()   \n",
    "    m_new = rToM(r)\n",
    "    m_data_image[i] = m_new    \n"
   ]
  },
  {
   "cell_type": "code",
   "execution_count": 3,
   "metadata": {},
   "outputs": [
    {
     "name": "stdout",
     "output_type": "stream",
     "text": [
      "171427\n"
     ]
    }
   ],
   "source": [
    "nr,nc,nc = m_data_image.shape\n",
    "print nr"
   ]
  },
  {
   "cell_type": "code",
   "execution_count": 4,
   "metadata": {},
   "outputs": [
    {
     "name": "stdout",
     "output_type": "stream",
     "text": [
      "(array([ 0,  1,  2,  3,  4,  5,  6,  7,  8,  9, 10, 11, 12, 13, 14, 15, 16,\n",
      "       17, 18, 19, 20, 21, 22, 23, 24, 25, 26, 27, 28, 29, 30, 31, 32]), array([ 0,  1,  2,  3,  4,  5,  6,  7,  8,  9, 10, 11, 12, 13, 14, 15, 16,\n",
      "       17, 18, 19, 20, 21, 22, 23, 24, 25, 26, 27, 28, 29, 30, 31, 32]))\n",
      "0.0\n"
     ]
    },
    {
     "data": {
      "image/png": "[encoded data removed]",
      "text/plain": [
       "<Figure size 432x288 with 1 Axes>"
      ]
     },
     "metadata": {},
     "output_type": "display_data"
    }
   ],
   "source": [
    "test = m_data_image[100]\n",
    "test = test.transpose()\n",
    "test = test + m_data_image[100]\n",
    "print np.diag_indices_from(test)\n",
    "test[np.diag_indices_from(test)] = r\n",
    "\n",
    "import numpy as np\n",
    "import matplotlib.image as mpimg\n",
    "import matplotlib.pyplot as plt\n",
    "%matplotlib inline\n",
    "array = np.asmatrix(test).astype(np.uint8) \n",
    "plt.imshow(array)\n",
    "print y[400]"
   ]
  },
  {
   "cell_type": "code",
   "execution_count": 5,
   "metadata": {},
   "outputs": [
    {
     "name": "stdout",
     "output_type": "stream",
     "text": [
      "0.0\n"
     ]
    },
    {
     "data": {
      "image/png": "[encoded data removed]",
      "text/plain": [
       "<Figure size 432x288 with 1 Axes>"
      ]
     },
     "metadata": {},
     "output_type": "display_data"
    }
   ],
   "source": [
    "import numpy as np\n",
    "import matplotlib.image as mpimg\n",
    "import matplotlib.pyplot as plt\n",
    "%matplotlib inline\n",
    "array = np.asmatrix(m_data_image[100]).astype(np.uint8) \n",
    "plt.imshow(array)\n",
    "print y[100]"
   ]
  },
  {
   "cell_type": "code",
   "execution_count": 6,
   "metadata": {},
   "outputs": [
    {
     "name": "stdout",
     "output_type": "stream",
     "text": [
      "(154284, 33, 33) (154284,)\n"
     ]
    },
    {
     "name": "stderr",
     "output_type": "stream",
     "text": [
      "/home/xsong/miniconda2/lib/python2.7/site-packages/h5py/__init__.py:34: FutureWarning: Conversion of the second argument of issubdtype from `float` to `np.floating` is deprecated. In future, it will be treated as `np.float64 == np.dtype(float).type`.\n",
      "  from ._conv import register_converters as _register_converters\n",
      "Using TensorFlow backend.\n"
     ]
    },
    {
     "name": "stdout",
     "output_type": "stream",
     "text": [
      "(154284, 2)\n"
     ]
    }
   ],
   "source": [
    "m_data = m_data_image\n",
    "# Get the whole first file as trainning dataset, the other part as test\n",
    "#  Equanlization of training dataset\n",
    "Equalization = False\n",
    "train_ratio = 0.9 \n",
    "if Equalization:\n",
    "    id_1 =  np.where(y==1)\n",
    "    id_1 = id_1[0] \n",
    "    k = id_1.tolist()\n",
    "    idx = np.random.randint(len(k),size=int(len(k)*train_ratio))\n",
    "    x_train = m_data[idx,]\n",
    "    y_train = y[idx,]\n",
    "    print x_train.shape,y_train.shape\n",
    "else:\n",
    "    # No equalization of training dataset    \n",
    "    idx = np.random.randint(nr, size=int(nr*train_ratio))\n",
    "    #idx = range(int(nr*train_ratio))\n",
    "    x_train = m_data[idx,]\n",
    "    y_train = y[idx,]\n",
    "    print x_train.shape,y_train.shape\n",
    "    \n",
    "    \n",
    "from keras.utils import to_categorical\n",
    "\n",
    "num_classes = 2\n",
    "\n",
    "x_train = x_train.astype(int)\n",
    "y_train = to_categorical(y_train,num_classes)\n",
    "print y_train.shape"
   ]
  },
  {
   "cell_type": "code",
   "execution_count": 7,
   "metadata": {},
   "outputs": [],
   "source": [
    "from keras import backend as K\n",
    "import tensorflow as tf\n",
    "'''\n",
    "Compatible with tensorflow backend\n",
    "'''\n",
    "def focal_loss(gamma=2., alpha=.25):\n",
    "\tdef focal_loss_fixed(y_true, y_pred):\n",
    "\t\tpt_1 = tf.where(tf.equal(y_true, 1), y_pred, tf.ones_like(y_pred))\n",
    "        \tpt_0 = tf.where(tf.equal(y_true, 0), y_pred, tf.zeros_like(y_pred))\n",
    "        \treturn -K.sum(alpha * K.pow(1. - pt_1, gamma) * K.log(pt_1))-K.sum((1-alpha) * K.pow( pt_0, gamma) * K.log(1. - pt_0))\n",
    "\treturn focal_loss_fixed"
   ]
  },
  {
   "cell_type": "code",
   "execution_count": 8,
   "metadata": {},
   "outputs": [],
   "source": [
    "x_train= x_train.reshape(len(idx),33,33,1)"
   ]
  },
  {
   "cell_type": "code",
   "execution_count": 9,
   "metadata": {},
   "outputs": [
    {
     "name": "stdout",
     "output_type": "stream",
     "text": [
      "_________________________________________________________________\n",
      "Layer (type)                 Output Shape              Param #   \n",
      "=================================================================\n",
      "conv2d_1 (Conv2D)            (None, 31, 31, 128)       1280      \n",
      "_________________________________________________________________\n",
      "conv2d_2 (Conv2D)            (None, 29, 29, 128)       147584    \n",
      "_________________________________________________________________\n",
      "max_pooling2d_1 (MaxPooling2 (None, 14, 14, 128)       0         \n",
      "_________________________________________________________________\n",
      "conv2d_3 (Conv2D)            (None, 12, 12, 128)       147584    \n",
      "_________________________________________________________________\n",
      "conv2d_4 (Conv2D)            (None, 10, 10, 128)       147584    \n",
      "_________________________________________________________________\n",
      "max_pooling2d_2 (MaxPooling2 (None, 5, 5, 128)         0         \n",
      "_________________________________________________________________\n",
      "conv2d_5 (Conv2D)            (None, 3, 3, 256)         295168    \n",
      "_________________________________________________________________\n",
      "global_average_pooling2d_1 ( (None, 256)               0         \n",
      "_________________________________________________________________\n",
      "dropout_1 (Dropout)          (None, 256)               0         \n",
      "_________________________________________________________________\n",
      "dense_1 (Dense)              (None, 2)                 514       \n",
      "=================================================================\n",
      "Total params: 739,714\n",
      "Trainable params: 739,714\n",
      "Non-trainable params: 0\n",
      "_________________________________________________________________\n",
      "None\n"
     ]
    }
   ],
   "source": [
    "from keras.models import Sequential\n",
    "from keras.layers import Dense, Flatten, Input\n",
    "from keras.layers.embeddings import Embedding\n",
    "from keras.models import Model\n",
    "from keras.preprocessing.sequence import pad_sequences\n",
    "from keras.preprocessing.text import one_hot\n",
    "from keras.layers import Dense, Dropout, Flatten, Reshape, GlobalAveragePooling1D,GlobalAveragePooling2D\n",
    "from keras.layers import Conv2D, MaxPooling2D, Conv1D, MaxPooling1D\n",
    "from keras.utils import np_utils\n",
    "from keras.utils import plot_model\n",
    "#from focal_loss import focal_loss\n",
    "model = Sequential()\n",
    "#model.add(Flatten())\n",
    "model.add(Conv2D(128, (3,3), activation='relu',input_shape=(33, 33, 1)))\n",
    "model.add(Conv2D(128, (3,3), activation='relu'))\n",
    "model.add(MaxPooling2D(2))\n",
    "model.add(Conv2D(128, (3,3), activation='relu'))\n",
    "model.add(Conv2D(128, (3,3), activation='relu'))\n",
    "model.add(MaxPooling2D(2,2))\n",
    "model.add(Conv2D(256, (3,3), activation='relu'))\n",
    "model.add(GlobalAveragePooling2D())\n",
    "model.add(Dropout(0.25))\n",
    "model.add(Dense(2, activation='softmax'))\n",
    "# compile the model 编译\n",
    "model.compile(optimizer='adam', loss=[focal_loss(alpha=.25, gamma=2)], metrics=['acc'])\n",
    "#model.compile(optimizer='adam', loss='binary_crossentropy', metrics=['acc'])\n",
    "# summarize the model 打印模型信息\n",
    "print(model.summary())\n",
    "plot_model(model,to_file='2dconv.png')"
   ]
  },
  {
   "cell_type": "code",
   "execution_count": 11,
   "metadata": {},
   "outputs": [
    {
     "name": "stdout",
     "output_type": "stream",
     "text": [
      "\n",
      "--- Fit the model ---\n",
      "\n",
      "Train on 138855 samples, validate on 15429 samples\n",
      "Epoch 1/50\n",
      "138855/138855 [==============================] - 53s 383us/step - loss: 30.2927 - acc: 0.8045 - val_loss: 20.6281 - val_acc: 0.8758\n",
      "Epoch 2/50\n",
      "138855/138855 [==============================] - 45s 324us/step - loss: 16.7680 - acc: 0.8978 - val_loss: 14.2986 - val_acc: 0.9156\n",
      "Epoch 3/50\n",
      "138855/138855 [==============================] - 55s 396us/step - loss: 12.7119 - acc: 0.9256 - val_loss: 11.7103 - val_acc: 0.9299\n",
      "Epoch 4/50\n",
      "138855/138855 [==============================] - 54s 388us/step - loss: 10.0903 - acc: 0.9422 - val_loss: 9.9750 - val_acc: 0.9460\n",
      "Epoch 5/50\n",
      "138855/138855 [==============================] - 45s 325us/step - loss: 8.0833 - acc: 0.9553 - val_loss: 9.3652 - val_acc: 0.9505\n",
      "Epoch 6/50\n",
      "138855/138855 [==============================] - 41s 298us/step - loss: 6.4510 - acc: 0.9648 - val_loss: 8.0584 - val_acc: 0.9587\n",
      "Epoch 7/50\n",
      "138855/138855 [==============================] - 49s 349us/step - loss: 5.1871 - acc: 0.9725 - val_loss: 7.1703 - val_acc: 0.9653\n",
      "Epoch 8/50\n",
      "138855/138855 [==============================] - 54s 387us/step - loss: 4.2476 - acc: 0.9767 - val_loss: 8.3795 - val_acc: 0.9640\n",
      "Epoch 9/50\n",
      "138855/138855 [==============================] - 53s 379us/step - loss: 3.3656 - acc: 0.9824 - val_loss: 8.2191 - val_acc: 0.9666\n",
      "Epoch 10/50\n",
      "138855/138855 [==============================] - 49s 354us/step - loss: 2.9445 - acc: 0.9843 - val_loss: 8.6334 - val_acc: 0.9664\n",
      "Epoch 11/50\n",
      "138855/138855 [==============================] - 51s 370us/step - loss: 2.5497 - acc: 0.9865 - val_loss: 9.2560 - val_acc: 0.9647\n",
      "Epoch 12/50\n",
      "138855/138855 [==============================] - 47s 341us/step - loss: 2.2134 - acc: 0.9887 - val_loss: 8.1812 - val_acc: 0.9684\n",
      "Epoch 13/50\n",
      "138855/138855 [==============================] - 56s 403us/step - loss: 2.0094 - acc: 0.9899 - val_loss: 9.5768 - val_acc: 0.9697\n",
      "Epoch 14/50\n",
      "138855/138855 [==============================] - 46s 329us/step - loss: 1.9058 - acc: 0.9904 - val_loss: 10.3403 - val_acc: 0.9649\n",
      "Epoch 15/50\n",
      "138855/138855 [==============================] - 51s 364us/step - loss: 1.5120 - acc: 0.9922 - val_loss: 10.0799 - val_acc: 0.9726\n",
      "Epoch 16/50\n",
      "138855/138855 [==============================] - 51s 365us/step - loss: 1.7032 - acc: 0.9913 - val_loss: 9.4879 - val_acc: 0.9704\n"
     ]
    }
   ],
   "source": [
    "# fit the model 拟合\n",
    "import keras\n",
    "\n",
    "BATCH_SIZE=256\n",
    "EPOCHS = 50\n",
    "print(\"\\n--- Fit the model ---\\n\")\n",
    "\n",
    "# The EarlyStopping callback monitors training accuracy:\n",
    "# if it fails to improve for two consecutive epochs,\n",
    "# training stops early\n",
    "callbacks_list = [\n",
    "    keras.callbacks.ModelCheckpoint(\n",
    "        filepath='best_model.{epoch:02d}-{val_loss:.2f}.h5',\n",
    "        monitor='val_loss', save_best_only=True),\n",
    "    keras.callbacks.EarlyStopping(monitor='acc', patience=1)\n",
    "]\n",
    "\n",
    "history = model.fit(x_train,\n",
    "                      y_train,\n",
    "                      batch_size=BATCH_SIZE,\n",
    "                      epochs=EPOCHS,\n",
    "                      callbacks=callbacks_list,\n",
    "                      validation_split=0.1,\n",
    "                      verbose=1)\n",
    "#history = model.fit(x_train, y_train, epochs=50,verbose=1)\n",
    "# evaluate the model 评估\n",
    "#loss, accuracy = model.evaluate(x_train, labels, verbose=0)\n",
    "#print('Accuracy: %f' % (accuracy*100))"
   ]
  },
  {
   "cell_type": "code",
   "execution_count": 12,
   "metadata": {},
   "outputs": [
    {
     "data": {
      "image/png": "[encoded data removed]",
      "text/plain": [
       "<Figure size 432x288 with 1 Axes>"
      ]
     },
     "metadata": {},
     "output_type": "display_data"
    }
   ],
   "source": [
    "# summarize history for accuracy and loss\n",
    "import matplotlib.pyplot as plt\n",
    "plt.figure(figsize=(6, 4))\n",
    "plt.plot(history.history['acc'], \"g--\", label=\"Accuracy of training data\")\n",
    "plt.plot(history.history['val_acc'], \"g\", label=\"Accuracy of validation data\")\n",
    "plt.plot(history.history['loss'], \"r--\", label=\"Loss of training data\")\n",
    "plt.plot(history.history['val_loss'], \"r\", label=\"Loss of validation data\")\n",
    "plt.title('Model Accuracy and Loss')\n",
    "plt.ylabel('Accuracy and Loss')\n",
    "plt.xlabel('Training Epoch')\n",
    "plt.ylim(0)\n",
    "plt.legend()\n",
    "plt.show()"
   ]
  },
  {
   "cell_type": "code",
   "execution_count": 13,
   "metadata": {},
   "outputs": [],
   "source": [
    "def show_confusion_matrix(validations, predictions):\n",
    "\n",
    "    matrix = metrics.confusion_matrix(validations, predictions)\n",
    "    plt.figure(figsize=(6, 4))\n",
    "    sns.heatmap(matrix,\n",
    "                cmap=\"coolwarm\",\n",
    "                linecolor='white',\n",
    "                linewidths=1,\n",
    "                xticklabels=LABELS,\n",
    "                yticklabels=LABELS,\n",
    "                annot=True,\n",
    "                fmt=\"d\")\n",
    "    plt.title(\"Confusion Matrix\")\n",
    "    plt.ylabel(\"True Label\")\n",
    "    plt.xlabel(\"Predicted Label\")\n",
    "    plt.show()"
   ]
  },
  {
   "cell_type": "code",
   "execution_count": 17,
   "metadata": {},
   "outputs": [
    {
     "data": {
      "text/plain": [
       "171427"
      ]
     },
     "execution_count": 17,
     "metadata": {},
     "output_type": "execute_result"
    }
   ],
   "source": [
    "len(m_data)"
   ]
  },
  {
   "cell_type": "code",
   "execution_count": 18,
   "metadata": {},
   "outputs": [
    {
     "name": "stdout",
     "output_type": "stream",
     "text": [
      "\n",
      "--- Check against test data ---\n",
      "\n",
      "(69728, 33, 33, 1) (69728,)\n",
      "69728/69728 [==============================] - 14s 196us/step\n",
      "\n",
      "Accuracy on test data: 0.94\n",
      "\n",
      "Loss on test data: 2.59\n",
      "\n",
      "--- Confusion matrix for test data ---\n",
      "\n"
     ]
    },
    {
     "data": {
      "image/png": "[encoded data removed]",
      "text/plain": [
       "<Figure size 432x288 with 2 Axes>"
      ]
     },
     "metadata": {},
     "output_type": "display_data"
    },
    {
     "name": "stdout",
     "output_type": "stream",
     "text": [
      "\n",
      "--- Classification report for test data ---\n",
      "\n",
      "             precision    recall  f1-score   support\n",
      "\n",
      "          0       0.96      0.96      0.96     52300\n",
      "          1       0.89      0.88      0.88     17428\n",
      "\n",
      "avg / total       0.94      0.94      0.94     69728\n",
      "\n"
     ]
    }
   ],
   "source": [
    "#%%\n",
    "m_data = m_data.reshape(len(m_data),33,33,1)\n",
    "from sklearn import metrics\n",
    "from sklearn.metrics import classification_report\n",
    "import seaborn as sns\n",
    "from scipy import stats\n",
    "LABELS = [\"Desactivated\",\n",
    "          \"Activated\"]\n",
    "\n",
    "print(\"\\n--- Check against test data ---\\n\")\n",
    "\n",
    "#idx = range(10)\n",
    "x_test=np.delete(m_data,idx,axis=0)\n",
    "y_test=np.delete(y,idx)\n",
    "print x_test.shape, y_test.shape\n",
    "\n",
    "x_test = x_test.astype(\"float32\")\n",
    "y_test = y_test.astype(\"float32\")\n",
    "y_test = np_utils.to_categorical(y_test, num_classes)\n",
    "\n",
    "score = model.evaluate(x_test, y_test, verbose=1)\n",
    "\n",
    "print(\"\\nAccuracy on test data: %0.2f\" % score[1])\n",
    "print(\"\\nLoss on test data: %0.2f\" % score[0])\n",
    "\n",
    "# %%\n",
    "print(\"\\n--- Confusion matrix for test data ---\\n\")\n",
    "\n",
    "y_pred_test = model.predict(x_test)\n",
    "# Take the class with the highest probability from the test predictions\n",
    "max_y_pred_test = np.argmax(y_pred_test, axis=1)\n",
    "max_y_test = np.argmax(y_test, axis=1)\n",
    "\n",
    "show_confusion_matrix(max_y_test, max_y_pred_test)\n",
    "\n",
    "# %%\n",
    "\n",
    "print(\"\\n--- Classification report for test data ---\\n\")\n",
    "\n",
    "print(classification_report(max_y_test, max_y_pred_test))"
   ]
  },
  {
   "cell_type": "code",
   "execution_count": null,
   "metadata": {},
   "outputs": [],
   "source": []
  },
  {
   "cell_type": "code",
   "execution_count": null,
   "metadata": {},
   "outputs": [],
   "source": []
  }
 ],
 "metadata": {
  "kernelspec": {
   "display_name": "Python 2",
   "language": "python",
   "name": "python2"
  },
  "language_info": {
   "codemirror_mode": {
    "name": "ipython",
    "version": 2
   },
   "file_extension": ".py",
   "mimetype": "text/x-python",
   "name": "python",
   "nbconvert_exporter": "python",
   "pygments_lexer": "ipython2",
   "version": "2.7.15"
  }
 },
 "nbformat": 4,
 "nbformat_minor": 2
}
